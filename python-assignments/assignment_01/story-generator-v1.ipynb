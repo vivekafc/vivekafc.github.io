{
 "cells": [
  {
   "cell_type": "code",
   "execution_count": 44,
   "metadata": {},
   "outputs": [
    {
     "name": "stdout",
     "output_type": "stream",
     "text": [
      "One day I woke up feeling sad and I knew it was going to be a funny day.\n",
      "The sky was orange and the weather was sunny.\n",
      "Outside, I took the plane, which took me straight to the plaza.\n",
      "I came across a store which sold electronics and where I managed to get the perfect vintage copy of an old Polish film.\n",
      "Later, I treated myself to a ice cream at the italian restaurant.\n",
      "Finally, I got back home and fed Eue the cat. I curled up in my bed and thought, What a Day!\n"
     ]
    }
   ],
   "source": [
    "#import random module\n",
    "\n",
    "import random\n",
    "\n",
    "feelings = random.choice(['sad', 'happy', 'angry', 'depressed'])\n",
    "typeof = random.choice(['annoying', 'funny', 'irritating', 'good', 'bad'])\n",
    "colour = random.choice([\"red\", \"blue\", \"yellow\", \"orange\", \"purple\", \"navy\", \"black\"])\n",
    "weather = random.choice([\"dull\", \"sunny\", \"rainy\", \"hot\", \"cold\", \"snowy\"])\n",
    "transport = random.choice([\"bus\", \"train\", \"tram\", \"rickshaw\", \"plane\", \"jet\"])\n",
    "location = random.choice([\"the mall\", \"the strip\", \"the pier\", \"the plaza\", \"the park\", \"the club\"])\n",
    "product = random.choice([\"electronics\", \"movies\", \"utensils\", \"glassware\", \"records\"])\n",
    "purchase = random.choice([\"vinyl\", \"phone\", \"laptop\", \"vintage copy of an old Polish film\", \"bong\"])\n",
    "food = random.choice([\"creme brulee\", \"pizza\", \"pasta\", \"lamb bolognese\", \"butter chicken\", \"ice cream\"])\n",
    "cuisine = random.choice([\"french\", \"indian\", \"fusion\", \"sweet\", \"british\", \"italian\", \"german\"])\n",
    "name = random.choice([\"Earl\", \"Leo\", \"Luna\", \"Coco\", \"Eue\", \"Franklin\"])\n",
    "animal = random.choice([\"turtle\", \"dog\", \"cat\", \"puppy\", \"kitten\", \"fish\", \"squirrel\", \"ferret\"])\n",
    "sleep = random.choice([\"wooden mat\", \"mattress on the floor\", \"bed\", \"tent\", \"cryochamber\"])\n",
    "\n",
    "print(\"One day I woke up feeling \" + feelings + \" and I knew it was going to be a \" + typeof + \" day.\")\n",
    "print(\"The sky was \" + colour + \" and the weather was \" + weather +\".\")\n",
    "print(\"Outside, I took the \" + transport + \", which took me straight to \"+ location +\".\")\n",
    "print(\"I came across a store which sold \" + product + \" and where I managed to get the perfect \" + purchase +\".\")\n",
    "print(\"Later, I treated myself to a \"+ food + \" at the \" + cuisine +\" restaurant.\")\n",
    "print(\"Finally, I got back home and fed \"+ name + \" the \" + animal + \". I curled up in my \" + sleep + \" and thought, What a Day!\")\n",
    "      "
   ]
  },
  {
   "cell_type": "code",
   "execution_count": null,
   "metadata": {},
   "outputs": [],
   "source": []
  }
 ],
 "metadata": {
  "kernelspec": {
   "display_name": "Python 3",
   "language": "python",
   "name": "python3"
  },
  "language_info": {
   "codemirror_mode": {
    "name": "ipython",
    "version": 3
   },
   "file_extension": ".py",
   "mimetype": "text/x-python",
   "name": "python",
   "nbconvert_exporter": "python",
   "pygments_lexer": "ipython3",
   "version": "3.8.3"
  }
 },
 "nbformat": 4,
 "nbformat_minor": 4
}
