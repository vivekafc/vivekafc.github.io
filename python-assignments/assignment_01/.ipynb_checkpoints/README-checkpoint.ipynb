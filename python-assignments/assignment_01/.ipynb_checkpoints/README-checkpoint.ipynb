{
 "cells": [
  {
   "cell_type": "markdown",
   "metadata": {},
   "source": [
    "### Random Story Generator"
   ]
  },
  {
   "cell_type": "markdown",
   "metadata": {},
   "source": [
    "This programme is meant to generate random stories with different characters, themes and settings. "
   ]
  },
  {
   "cell_type": "markdown",
   "metadata": {},
   "source": [
    "With the use of the random function, we will make the programme choose from a list of strings and add them together using the print function to build a story.\n",
    "\n",
    "We start off by figuring out our categories/taxonomies, such as characters, settings and such. "
   ]
  },
  {
   "cell_type": "markdown",
   "metadata": {},
   "source": [
    "Once we finish writing our lists, we can bundle them together using the print function to actually print out the story."
   ]
  },
  {
   "cell_type": "markdown",
   "metadata": {},
   "source": [
    "Our story template will be as follows, "
   ]
  },
  {
   "cell_type": "markdown",
   "metadata": {},
   "source": [
    "\"One day I woke up feeling _, and I knew it was going to be a _ day. The sky was _ and the weather was _. So I hopped out of bed and put on my _ and my _, and I was ready to _. Outside, I took the _, which took me straight to _. I came across a store which sold _ and where I managed to get the perfect _. Later, I treated myself to a _ at the _ restaurant. Finally, I got back home and fed _ the _. I curled up in my _ and thought, \"What a Day!\"\""
   ]
  },
  {
   "cell_type": "code",
   "execution_count": null,
   "metadata": {},
   "outputs": [],
   "source": []
  }
 ],
 "metadata": {
  "kernelspec": {
   "display_name": "Python 3",
   "language": "python",
   "name": "python3"
  },
  "language_info": {
   "codemirror_mode": {
    "name": "ipython",
    "version": 3
   },
   "file_extension": ".py",
   "mimetype": "text/x-python",
   "name": "python",
   "nbconvert_exporter": "python",
   "pygments_lexer": "ipython3",
   "version": "3.8.3"
  }
 },
 "nbformat": 4,
 "nbformat_minor": 4
}
