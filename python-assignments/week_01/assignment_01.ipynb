{
 "cells": [
  {
   "cell_type": "markdown",
   "metadata": {},
   "source": [
    "### Assignment 1: Create your own calculator!"
   ]
  },
  {
   "cell_type": "markdown",
   "metadata": {},
   "source": [
    "Before we actually code in Python, please write out how you might build this with code in plain English (pseudocoding!). Pseudocode is an important part of programming and is used in planning an algorithm with sketching out the structure of the program before the actual coding takes place."
   ]
  },
  {
   "cell_type": "code",
   "execution_count": 2,
   "metadata": {},
   "outputs": [],
   "source": [
    "# example psuedocode:\n",
    "# 1. A calculator will take in numbers that we want to use the operators on. So we want store user input\n",
    "# in variables. The first variable will store the first number, the second one will store the second number, \n",
    "# and the third will store the mathematical operator the user wants to perform on these numbers."
   ]
  },
  {
   "cell_type": "markdown",
   "metadata": {},
   "source": [
    "__Using conditionals, operators, and functions, try creating a working calculator! We will go over the solution next week.__\n",
    "\n",
    "_Things to consider:_\n",
    "\n",
    "<li>You may want to ask for user input: use the Python input() method. If you're asking for numbers, you may need to change the input value from a string to a number. Consider using int(x) and float(x) to do so.</li>\n",
    "<li>Use the operators with the conditionals we learned in class! Ex) if user_input == '*': print(x * y) </li>\n",
    "<li>Use if...elif conditionals!</li>\n",
    "<li>Before you put your code into a function for reusability purposes, hard code first to make sure your logic is working</li>\n",
    "<li>Keep it simple and use the four operators we went over in class: +, -, *, /</li>"
   ]
  },
  {
   "cell_type": "markdown",
   "metadata": {},
   "source": [
    "### Making my own calculator"
   ]
  },
  {
   "cell_type": "code",
   "execution_count": 32,
   "metadata": {},
   "outputs": [],
   "source": [
    "#Pseudocode:\n",
    "#1. We need to make four operative functions: addition, subtract, divide and multiply.\n",
    "#2. We need to give the user the option for three input values: number a, number B and the operator.\n",
    "#3. We need to print the output."
   ]
  },
  {
   "cell_type": "code",
   "execution_count": 1,
   "metadata": {},
   "outputs": [
    {
     "name": "stdout",
     "output_type": "stream",
     "text": [
      "First number: 1\n",
      "Second number: 10\n",
      "Operator (+,/,-,*): *\n",
      "1.0  *  10.0 = 10.0\n"
     ]
    }
   ],
   "source": [
    "#Setting the input options\n",
    "x = input('First number: ')\n",
    "y = input('Second number: ')\n",
    "z = input('Operator (+,/,-,*): ')\n",
    "\n",
    "#Converting the numbers from string values into floats\n",
    "x = float(x)\n",
    "y = float(y)\n",
    "\n",
    "#Defining result and undefined variables\n",
    "res = 0\n",
    "undefined = \"Invalid output.\"\n",
    "\n",
    "if z == '+':\n",
    " res = x+y\n",
    "elif z == '-':\n",
    " res = x-y\n",
    "elif z == '/':\n",
    "    if y == 0:\n",
    "     res = undefined\n",
    "    else:\n",
    "     res = x/y\n",
    "elif z == '*':\n",
    " res = x*y\n",
    "else:\n",
    " print(\"Something is invalid\")\n",
    "\n",
    "print (str(x) + '  ' + z + '  ' + str(y) +  ' = ' + str(res))\n"
   ]
  },
  {
   "cell_type": "code",
   "execution_count": null,
   "metadata": {},
   "outputs": [],
   "source": []
  }
 ],
 "metadata": {
  "kernelspec": {
   "display_name": "Python 3",
   "language": "python",
   "name": "python3"
  },
  "language_info": {
   "codemirror_mode": {
    "name": "ipython",
    "version": 3
   },
   "file_extension": ".py",
   "mimetype": "text/x-python",
   "name": "python",
   "nbconvert_exporter": "python",
   "pygments_lexer": "ipython3",
   "version": "3.8.3"
  }
 },
 "nbformat": 4,
 "nbformat_minor": 4
}
