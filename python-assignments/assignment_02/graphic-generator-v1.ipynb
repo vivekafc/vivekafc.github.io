{
 "cells": [
  {
   "cell_type": "code",
   "execution_count": null,
   "metadata": {},
   "outputs": [
    {
     "name": "stdout",
     "output_type": "stream",
     "text": [
      "How many Squares do you want?500\n",
      "What colour do you want the squares to be?red\n",
      "0. 1\n",
      "1. 1\n",
      "2. 2\n",
      "3. 3\n",
      "4. 5\n",
      "5. 8\n",
      "6. 13\n",
      "7. 21\n",
      "8. 34\n",
      "9. 55\n",
      "10. 89\n",
      "11. 144\n",
      "12. 233\n",
      "13. 377\n"
     ]
    }
   ],
   "source": [
    "import turtle\n",
    "wn=turtle.Screen()\n",
    "wn.bgcolor(\"black\")\n",
    "from turtle import *\n",
    " \n",
    "prev=0\n",
    "start=1\n",
    "fibonacci=1\n",
    "shapes = input(\"How many shapes do you want?\")\n",
    "randomRGB = input(\"What colour do you want the squares to be?\")\n",
    "\n",
    "for i in range(int(sqs)):\n",
    "   print(str(i)+\". \"+str(fibonacci))\n",
    "   \n",
    "   color(randomRGB)\n",
    "   for f in range(6):\n",
    "       forward(5*fibonacci)\n",
    "       if f<5:right(45)\n",
    " \n",
    "   fibonacci=start+prev\n",
    "   prev=start\n",
    "   start=fibonacci"
   ]
  },
  {
   "cell_type": "code",
   "execution_count": null,
   "metadata": {},
   "outputs": [],
   "source": []
  },
  {
   "cell_type": "code",
   "execution_count": null,
   "metadata": {},
   "outputs": [],
   "source": []
  }
 ],
 "metadata": {
  "kernelspec": {
   "display_name": "Python 3",
   "language": "python",
   "name": "python3"
  },
  "language_info": {
   "codemirror_mode": {
    "name": "ipython",
    "version": 3
   },
   "file_extension": ".py",
   "mimetype": "text/x-python",
   "name": "python",
   "nbconvert_exporter": "python",
   "pygments_lexer": "ipython3",
   "version": "3.8.3"
  }
 },
 "nbformat": 4,
 "nbformat_minor": 4
}
